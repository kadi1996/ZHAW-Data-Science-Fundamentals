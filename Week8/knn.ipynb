{
 "cells": [
  {
   "cell_type": "markdown",
   "metadata": {},
   "source": [
    "# K-Nearest Neighbors"
   ]
  },
  {
   "cell_type": "markdown",
   "metadata": {},
   "source": [
    "In this notebook you will implement a simple K-NN algorithm and try to see the effect of using different values for the parameter k. Source for the excercise was the book of A.Géron , \"Hands-On Machine Learning with Keras, Scikit & Tensorflow\", O'Reilly. \n",
    "In this exercise we will work with Life satisfaction and GDP Data and we will try to predict the numerical value for Life statisfaction index of Cyprus, based on its GDP.\n",
    "Add your code where indicated with \"#### ADD YOUR CODE HERE#####\"\n",
    "\n",
    "The next function is just a util-function to prepare the data."
   ]
  },
  {
   "cell_type": "code",
   "execution_count": null,
   "metadata": {},
   "outputs": [],
   "source": [
    "def prepare_country_stats(oecd_bli, gdp_per_capita): # function nimmt zwei DF als Eingabe \n",
    "    oecd_bli = oecd_bli[oecd_bli[\"INEQUALITY\"]==\"TOT\"] # Filtert die Daten nach der Spalte \"INEQUALITY\" und behält nur die Zeilen, die den Wert \"TOT\" enthalten\n",
    "    oecd_bli = oecd_bli.pivot(index=\"Country\", columns=\"Indicator\", values=\"Value\") # Daten werden neu organisiert, Länder werden zum index, indicators zu den Spalten und values zu den Werten\n",
    "    gdp_per_capita.rename(columns={\"2015\": \"GDP per capita\"}, inplace=True) # Spalte \"2015\" wird umbenannt in \"GDP per capita\"\n",
    "    gdp_per_capita.set_index(\"Country\", inplace=True) # Spalte \"Country\" wird zum Index gemacht\n",
    "    full_country_stats = pd.merge(left=oecd_bli, right=gdp_per_capita,\n",
    "                                  left_index=True, right_index=True) # beide DF werden zusammengeführt, Ergebnis wird in full_country_stats gespeichert und gibt Lebenszufriedenheit und GDP pro Kopf zurück\n",
    "    full_country_stats.sort_values(by=\"GDP per capita\", inplace=True) # sortiert die Daten nach GDP pro Kopf\n",
    "    remove_indices = [0, 1, 6, 8, 33, 34, 35]\n",
    "    keep_indices = list(set(range(36)) - set(remove_indices))\n",
    "    return full_country_stats[[\"GDP per capita\", 'Life satisfaction']].iloc [keep_indices] # gibt nur die spalten GDP pro Kopf und Lebenszufriedenheit für die ausgewählten Indizes zurück"
   ]
  },
  {
   "cell_type": "markdown",
   "metadata": {},
   "source": [
    "The module we need to import to implement the algorithm is sklearn.neighbors.\n",
    "The 2 datafiles \"oecd_bli_2015.csv\" and \"gdp_per_capita.csv\" should be in the same folder as this notebook."
   ]
  },
  {
   "cell_type": "code",
   "execution_count": 1,
   "metadata": {},
   "outputs": [
    {
     "ename": "NameError",
     "evalue": "name 'prepare_country_stats' is not defined",
     "output_type": "error",
     "traceback": [
      "\u001b[0;31m---------------------------------------------------------------------------\u001b[0m",
      "\u001b[0;31mNameError\u001b[0m                                 Traceback (most recent call last)",
      "Cell \u001b[0;32mIn[1], line 12\u001b[0m\n\u001b[1;32m      8\u001b[0m gdp_per_capita \u001b[38;5;241m=\u001b[39m pd\u001b[38;5;241m.\u001b[39mread_csv(\u001b[38;5;124m\"\u001b[39m\u001b[38;5;124mgdp_per_capita.csv\u001b[39m\u001b[38;5;124m\"\u001b[39m,thousands\u001b[38;5;241m=\u001b[39m\u001b[38;5;124m'\u001b[39m\u001b[38;5;124m,\u001b[39m\u001b[38;5;124m'\u001b[39m,delimiter\u001b[38;5;241m=\u001b[39m\u001b[38;5;124m'\u001b[39m\u001b[38;5;130;01m\\t\u001b[39;00m\u001b[38;5;124m'\u001b[39m,\n\u001b[1;32m      9\u001b[0m                              encoding\u001b[38;5;241m=\u001b[39m\u001b[38;5;124m'\u001b[39m\u001b[38;5;124mlatin1\u001b[39m\u001b[38;5;124m'\u001b[39m, na_values\u001b[38;5;241m=\u001b[39m\u001b[38;5;124m\"\u001b[39m\u001b[38;5;124mn/a\u001b[39m\u001b[38;5;124m\"\u001b[39m)\n\u001b[1;32m     11\u001b[0m \u001b[38;5;66;03m# Prepare the data\u001b[39;00m\n\u001b[0;32m---> 12\u001b[0m country_stats \u001b[38;5;241m=\u001b[39m \u001b[43mprepare_country_stats\u001b[49m(oecd_bli, gdp_per_capita) \u001b[38;5;66;03m#zuvor definierte Funktion wird aufgerufen -> kombiniert und bereinigt die beiden geladenen Datensätze \u001b[39;00m\n\u001b[1;32m     13\u001b[0m X \u001b[38;5;241m=\u001b[39m np\u001b[38;5;241m.\u001b[39mc_[country_stats[\u001b[38;5;124m\"\u001b[39m\u001b[38;5;124mGDP per capita\u001b[39m\u001b[38;5;124m\"\u001b[39m]] \u001b[38;5;66;03m# enthält die GDP pro Kopf Werte\u001b[39;00m\n\u001b[1;32m     14\u001b[0m y \u001b[38;5;241m=\u001b[39m np\u001b[38;5;241m.\u001b[39mc_[country_stats[\u001b[38;5;124m\"\u001b[39m\u001b[38;5;124mLife satisfaction\u001b[39m\u001b[38;5;124m\"\u001b[39m]] \u001b[38;5;66;03m# enthält die Lebenszufriedenheitswerte\u001b[39;00m\n",
      "\u001b[0;31mNameError\u001b[0m: name 'prepare_country_stats' is not defined"
     ]
    }
   ],
   "source": [
    "import matplotlib.pyplot as plt # Datenvisualisierung\n",
    "import numpy as np # mathematische Funktionen\n",
    "import pandas as pd # Data Frames \n",
    "import sklearn.neighbors # Enthält KNN Algorithmen\n",
    "\n",
    "# Load the data\n",
    "oecd_bli = pd.read_csv(\"oecd_bli_2015.csv\", thousands=',')\n",
    "gdp_per_capita = pd.read_csv(\"gdp_per_capita.csv\",thousands=',',delimiter='\\t',\n",
    "                             encoding='latin1', na_values=\"n/a\")\n",
    "\n",
    "# Prepare the data\n",
    "country_stats = prepare_country_stats(oecd_bli, gdp_per_capita) #zuvor definierte Funktion wird aufgerufen -> kombiniert und bereinigt die beiden geladenen Datensätze \n",
    "X = np.c_[country_stats[\"GDP per capita\"]] # enthält die GDP pro Kopf Werte\n",
    "y = np.c_[country_stats[\"Life satisfaction\"]] # enthält die Lebenszufriedenheitswerte\n",
    "# np.c_ ist eine Funktion, die zwei Arrays entlang der zweiten Achse zusammenführt, verwendet Numpy\n",
    "\n",
    "# Visualize the data\n",
    "country_stats.plot(kind='scatter', x=\"GDP per capita\", y='Life satisfaction') # erstellt ein Scatterplot mit GDP pro Kopf auf der x-Achse und Lebenszufriedenheit auf der y-Achse\n",
    "position_text = { # position_text ist ein Dictionary mit Koordinaten, die die Position von Anmerkungen (Text) für bestimmte Länder im Diagramm bestimmen.\n",
    "    \"Hungary\": (5000, 1),\n",
    "    \"Korea\": (18000, 1.7),\n",
    "    \"France\": (29000, 2.4),\n",
    "    \"Australia\": (40000, 3.0),\n",
    "    \"United States\": (52000, 3.8),\n",
    "}\n",
    "for country, pos_text in position_text.items(): # iteriert durch die Einträge in position_text\n",
    "    pos_data_x, pos_data_y = country_stats.loc[country] # extrahiert die GDP pro Kopf und Lebenszufriedenheitswerte für das Land\n",
    "    country = \"U.S.\" if country == \"United States\" else country # ändert den Namen des Landes von \"United States\" zu \"U.S.\" \n",
    "    plt.annotate(country, xy=(pos_data_x, pos_data_y), xytext=pos_text, \n",
    "                 # plt.annotate = Fügt Anmerkungen (Text + Pfeil) zum Diagramm hinzu.\n",
    "                 # xy=(pos_data_x, pos_data_y): fügt den Namen des Landes in das Diagramm ein und positioniert ihn entsprechend den Werten in position_text\n",
    "            arrowprops=dict(facecolor='black', width=0.5, shrink=0.1,headwith=5)) # Pfeil wird hinzugefügt, um den Text zu verbinden\n",
    "    plt.plot(pos_data_x, pos_data_y, \"ro\")\n",
    "\n",
    "\n",
    "# Select a linear model\n",
    "model = sklearn.neighbors.KNeighborsRegressor(n_neighbors = 3)\n",
    "\n",
    "\n",
    "\n",
    "\n",
    "#choose the right function for KNN!!! Are we dealing with regression or classification?\n",
    "#There are two KNN algorithms in sklearn.neighbors (https://scikit-learn.org/stable/modules/classes.html#module-sklearn.neighbors)\n",
    "#neighbors.KNeighborsClassifier([…]) and neighbors.KNeighborsRegressor([…])...which one is the right one?\n",
    "\n",
    "\n",
    "# Train the model\n",
    "model.fit(X, y)\n",
    "\n",
    "# Make a prediction for Cyprus\n",
    "X_new = [[22587]]  # Cyprus' GDP per capita\n",
    "print(model.predict(X_new)) \n",
    "\n",
    "plt.plot(X_new, model.predict(X_new), 'D', color='lime')\n",
    "plt.show()"
   ]
  },
  {
   "cell_type": "markdown",
   "metadata": {},
   "source": [
    "Try now to change the number of neighbors on which your prediction is based. Consider for example the extremes cases of n_neighbors = 1 or 25. \n",
    "\n",
    "How does the prediction for Cyprus chage wrt to n_neighbors (=k)?\n",
    "Can you guess why?"
   ]
  },
  {
   "cell_type": "code",
   "execution_count": null,
   "metadata": {},
   "outputs": [],
   "source": [
    "#write down here your answers to the questions above"
   ]
  }
 ],
 "metadata": {
  "kernelspec": {
   "display_name": "Python 3",
   "language": "python",
   "name": "python3"
  },
  "language_info": {
   "codemirror_mode": {
    "name": "ipython",
    "version": 3
   },
   "file_extension": ".py",
   "mimetype": "text/x-python",
   "name": "python",
   "nbconvert_exporter": "python",
   "pygments_lexer": "ipython3",
   "version": "3.11.11"
  }
 },
 "nbformat": 4,
 "nbformat_minor": 2
}
